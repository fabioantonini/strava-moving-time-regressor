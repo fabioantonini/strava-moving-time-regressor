{
 "cells": [
  {
   "cell_type": "markdown",
   "id": "871e4c2a",
   "metadata": {},
   "source": [
    "# Strava, Rouvy and Machine Learning"
   ]
  },
  {
   "cell_type": "markdown",
   "id": "d8cfa8b7-28bd-4f7f-b6fd-13add5428556",
   "metadata": {},
   "source": [
    "### How to predict 'moving time' on a route by Scikit-Learn\n",
    "<center><img src=\"strava.png\" alt=\"My Account from Strava web page\" /><img src=\"rouvy.png\" alt=\"My Account from Strava web page\" /></center>"
   ]
  },
  {
   "cell_type": "markdown",
   "id": "2bbfc9bf-5348-4f7f-8da4-caf5084634df",
   "metadata": {},
   "source": [
    "I've had a lot of fun riding my bike over the last few years. Unfortunately the Covid pandemic has greatly limited the opportunities for outdoor outings. Plus the winter is harsh in my area. So I subscribed to a nice app called (rouvy.com) and bought an indoor trainer to pedal at home. It was a fantastic experience that continues to this day. Early every day in the morning I can train by pedaling anywhere in the world, tackling the steepest and most legendary climbs. I connected Rouvy to my (free) Strava account and saved all the data related to the routes I have ridden. After 3 years the end result is that I have more than 500 routes (indoor and outdoor) saved in my Strava account. But how does Machine Learning come into play?\n",
    "When I want to choose the next route to take, I often have only a rough idea of the \"commute time\" it will take. This is essential for scheduling my time. So I decided to use the data available in Strava to train a Machine Learning model and predict the \"commute time\" (also 'Moving time') given some parameters (distance, elevation gain, max speed, average speed...) available 'a priori' in the Rouvy profile of the route.\n",
    "This notebook, the data and all the pictures are available under my github https://github.com/fabioantonini/strava-moving-time-regressor.\n",
    "Let's dive."
   ]
  },
  {
   "cell_type": "markdown",
   "id": "505b7698-0dac-4eaa-ab98-70204029a99a",
   "metadata": {},
   "source": [
    "## Retrieving data from Strava"
   ]
  },
  {
   "cell_type": "markdown",
   "id": "5c5e922a-1fd8-4ca8-9d7d-b0d04ee2df6c",
   "metadata": {},
   "source": [
    "The routes data can be exported by the Strava website from the 'My Account' page."
   ]
  },
  {
   "cell_type": "markdown",
   "id": "dc466d74-b176-4345-a339-f169bd1d460f",
   "metadata": {},
   "source": [
    "<center><img src=\"myaccount.png\" alt=\"My Account from Strava web page\" /></center>"
   ]
  },
  {
   "cell_type": "markdown",
   "id": "d220f5cc-3560-4943-a5f3-5055490e4939",
   "metadata": {},
   "source": [
    "Search for 'Download or Delete Your Account'. Click on the 'Get Started'."
   ]
  },
  {
   "cell_type": "markdown",
   "id": "0607d464-19f8-4ebc-badd-b9c56172e0a1",
   "metadata": {},
   "source": [
    "<img src=\"export.png\" alt=\"My Account from Strava web page\" />"
   ]
  },
  {
   "cell_type": "markdown",
   "id": "ae496ad2-fe2d-47de-9000-6d8cddab212c",
   "metadata": {},
   "source": [
    "Click on the 'Request Your Archive' button. As explained, an email will be sent to you with the link to download the zip file containing the data of your Strava activities. Prepare to wait for a while. Strava takes its time to arrange the archive. So you might receive the email after some hours.\n",
    "Anyway in the end you will receive the email and download the zip file (export_31174850.zip for instance).\n",
    "Let's take a look at its content."
   ]
  },
  {
   "cell_type": "markdown",
   "id": "1600a942-cc29-4cc1-bc31-ba4e5f87bb12",
   "metadata": {},
   "source": [
    "<img src=\"zipfile.png\" alt=\"My Account from Strava web page\" />"
   ]
  },
  {
   "cell_type": "markdown",
   "id": "5e520187-508e-429f-9bef-8a17b3795868",
   "metadata": {},
   "source": [
    "For our purposes only the 'activities.csv' file is required. From the size we can realize that it contains a lot of data. My own 'activities.csv' file has been added to the repo and it will be processed. Let's import it."
   ]
  },
  {
   "cell_type": "code",
   "execution_count": null,
   "id": "734532ad",
   "metadata": {},
   "outputs": [],
   "source": [
    "import numpy\n",
    "import pandas\n",
    "import matplotlib.pyplot as plt\n",
    "import scipy.stats\n",
    "from sklearn.linear_model import LinearRegression # Regression Model\n",
    "from sklearn.model_selection import train_test_split # to split train and test sets\n",
    "plt.style.use(\"bmh\")\n",
    "%config InlineBackend.figure_formats=[\"png\"]"
   ]
  },
  {
   "cell_type": "markdown",
   "id": "ba6a767b",
   "metadata": {},
   "source": [
    "Let's assume to have already downloaded the activities.csv file from our Strava profile."
   ]
  },
  {
   "cell_type": "code",
   "execution_count": null,
   "id": "10ea0012",
   "metadata": {},
   "outputs": [],
   "source": [
    "activities = pandas.read_csv(\"activities.csv\")\n",
    "print(\"dataset type is:\", type(activities), \"length:\", len(activities), \"shape:\", activities.shape)"
   ]
  },
  {
   "cell_type": "markdown",
   "id": "573bdc07",
   "metadata": {},
   "source": [
    "The dataset is really rich. It includes 86 columns for each route. \n",
    "Not all the columns contain usable data because I don't have a full Strava subscription, but only a free account. Let's take a look more in depth to undestand which activities are really useful to out purpose."
   ]
  },
  {
   "cell_type": "code",
   "execution_count": null,
   "id": "a87b6afc",
   "metadata": {},
   "outputs": [],
   "source": [
    "print(\"columns: \", len(list(activities.columns)))"
   ]
  },
  {
   "cell_type": "code",
   "execution_count": null,
   "id": "bf110f9b-b231-421a-8bf3-3eb34ad36088",
   "metadata": {},
   "outputs": [],
   "source": [
    "activities.head()"
   ]
  },
  {
   "cell_type": "code",
   "execution_count": null,
   "id": "d2d6428f",
   "metadata": {},
   "outputs": [],
   "source": [
    "activities.info()"
   ]
  },
  {
   "cell_type": "markdown",
   "id": "c07d9681",
   "metadata": {},
   "source": [
    "Of course not all the columns are helpful. So let's extract only the columns really useful to train a model.\n",
    "The data appear to be a bit sparsed. Some columns are not valorized at all (because of my free account). Others columns are many 'null'' values. We need to indetify only the features statistically helpful."
   ]
  },
  {
   "cell_type": "markdown",
   "id": "9bbf11fc",
   "metadata": {},
   "source": [
    "## Data cleaning"
   ]
  },
  {
   "cell_type": "markdown",
   "id": "7e998fcb-ee0d-4807-9c8e-21bd068edf2a",
   "metadata": {},
   "source": [
    "In the next section data will be cleaned and filtered to get only routes done by bike (Outdoor and Indoor)."
   ]
  },
  {
   "cell_type": "markdown",
   "id": "c4bbb253",
   "metadata": {},
   "source": [
    "### Getting only activities done by bike"
   ]
  },
  {
   "cell_type": "markdown",
   "id": "32027cbe-e76e-417b-87fd-78ce8f530fed",
   "metadata": {},
   "source": [
    "We defintely need to get only the activities done by bike. They are labeled as 'Ride' and 'Virtual Ride' in the Strava exported dataset. So we will drop the activities tagged as 'Walk' and 'Run'."
   ]
  },
  {
   "cell_type": "code",
   "execution_count": null,
   "id": "14a13611-c2f0-4a98-9b04-b2d67da15f13",
   "metadata": {},
   "outputs": [],
   "source": [
    "activities=activities.loc[activities['Activity Type'].isin(['Ride', 'Virtual Ride'])]"
   ]
  },
  {
   "cell_type": "code",
   "execution_count": null,
   "id": "737e75fe-bdd5-4fb0-a44d-ea6522c36082",
   "metadata": {},
   "outputs": [],
   "source": [
    "activities.head(5)"
   ]
  },
  {
   "cell_type": "code",
   "execution_count": null,
   "id": "cf08df08-bed8-4948-b89a-c759948f340a",
   "metadata": {},
   "outputs": [],
   "source": [
    "# as an alternative you can remove the 'Walk' and 'Run' activities\n",
    "# activities = activities.drop(activities[activities['Activity Type'] == 'Walk'].index)\n",
    "# activities = activities.drop(activities[activities['Activity Type'] == 'Run'].index)"
   ]
  },
  {
   "cell_type": "markdown",
   "id": "046cad76-cb17-44e5-8b1c-1a3cc13f2101",
   "metadata": {},
   "source": [
    "### Removing short routes"
   ]
  },
  {
   "cell_type": "markdown",
   "id": "583191c6",
   "metadata": {},
   "source": [
    "Rouvy usually provides a 'Warm up' and 'Cool down' short routes before and after respectively the selected route. So also this short routes have been recorded under Strava. They are not useful for our purposes. So let's remove all the routes whose 'Moving Time' is less than 3 minutes (180 secs)."
   ]
  },
  {
   "cell_type": "code",
   "execution_count": null,
   "id": "9a02f34d",
   "metadata": {},
   "outputs": [],
   "source": [
    "activities = activities.drop(activities[activities['Moving Time'] < 180].index)"
   ]
  },
  {
   "cell_type": "code",
   "execution_count": null,
   "id": "b47fc4ad",
   "metadata": {},
   "outputs": [],
   "source": [
    "activities.head()"
   ]
  },
  {
   "cell_type": "markdown",
   "id": "0cf328aa-e7f3-46c8-8157-6dbacf2a86fd",
   "metadata": {},
   "source": [
    "### Handling fake data"
   ]
  },
  {
   "cell_type": "markdown",
   "id": "cf5f4719-1f22-4749-8340-7fa85441ada4",
   "metadata": {},
   "source": [
    "Inspecting the original dataframe we can realize that there are some bad data. For instance it's hard to believe that the 'Max Grade' is 50%. If the min 'Distance' is 0 Km, the route is a 'fake' or the data are corrupted. So these routes that can be removed.\n",
    "Let's clean this data by setting a threshold of 25% for the 'Max Grade', and 3 Km's for 'Distance' respectively."
   ]
  },
  {
   "cell_type": "code",
   "execution_count": null,
   "id": "c852db15-0a71-41a3-9fb8-60c322b91f1b",
   "metadata": {},
   "outputs": [],
   "source": [
    "activities = activities.drop(activities[activities['Max Grade'] > 25].index)"
   ]
  },
  {
   "cell_type": "code",
   "execution_count": null,
   "id": "1f0f3285-7682-4e78-b5c2-b0197b1ff022",
   "metadata": {},
   "outputs": [],
   "source": [
    "activities = activities.drop(activities[activities['Distance'] < 3].index)"
   ]
  },
  {
   "cell_type": "code",
   "execution_count": null,
   "id": "31e0deab-e7bf-4c4d-b057-3a0a2d4979e9",
   "metadata": {},
   "outputs": [],
   "source": [
    "activities.describe()"
   ]
  },
  {
   "cell_type": "code",
   "execution_count": null,
   "id": "c4f14a1f-52cb-478f-b73b-4d488572496a",
   "metadata": {},
   "outputs": [],
   "source": [
    "activities.head()"
   ]
  },
  {
   "cell_type": "markdown",
   "id": "80d64445-5915-4c98-887d-4fddd653b696",
   "metadata": {},
   "source": [
    "Now the data looks better."
   ]
  },
  {
   "cell_type": "markdown",
   "id": "efc14a1d-e2c8-436c-87a1-47477afc7c1f",
   "metadata": {},
   "source": [
    "### Selecting features and labels"
   ]
  },
  {
   "cell_type": "markdown",
   "id": "5a378552-9dd8-4079-ac02-6d53fcf39868",
   "metadata": {},
   "source": [
    "After a fast analysis of the available features, only the following features will be used to train the model:\n",
    "- Distance\n",
    "- Elevation gain\n",
    "- Max Grade\n",
    "- Average Grade"
   ]
  },
  {
   "cell_type": "markdown",
   "id": "390d6c44-bcf5-4428-ba6d-3cc18f1d411f",
   "metadata": {},
   "source": [
    "The target label is the 'Moving Time'."
   ]
  },
  {
   "cell_type": "markdown",
   "id": "9e116c26-6152-41bb-9d40-1951b258bad3",
   "metadata": {},
   "source": [
    "These informations can be retrieved by Rouvy, for every available route.\n",
    "Please note that in the picture the Elevation Gain is mapped to the 'Ascended' item."
   ]
  },
  {
   "cell_type": "markdown",
   "id": "900cc3a7-1527-4492-ad15-603c0cdbb730",
   "metadata": {},
   "source": [
    "<center><img src=\"rouvy-route.png\" alt=\"Rouvy data for a route\" /></center>"
   ]
  },
  {
   "cell_type": "code",
   "execution_count": null,
   "id": "bb598cee-e2cf-42d7-9b4e-99ee730d4626",
   "metadata": {},
   "outputs": [],
   "source": [
    "activities = activities[[\"Distance\", \"Elevation Gain\", \"Max Grade\", \"Average Grade\", \"Moving Time\"]]\n",
    "activities.describe()"
   ]
  },
  {
   "cell_type": "markdown",
   "id": "c157573f-af48-4901-913f-7883d287327c",
   "metadata": {},
   "source": [
    "We can notice that not all the feature have the same number of not null values."
   ]
  },
  {
   "cell_type": "markdown",
   "id": "d0b57f68-b0a8-4afd-987f-83c497d0d2ed",
   "metadata": {},
   "source": [
    "### Handling 'Null' values"
   ]
  },
  {
   "cell_type": "markdown",
   "id": "942a830f-bd98-4e7a-8cae-f10d1ab91946",
   "metadata": {},
   "source": [
    "We can check the 'null' values and remove the rows with at least one 'null' value."
   ]
  },
  {
   "cell_type": "code",
   "execution_count": null,
   "id": "a3efa664-ecf1-4a62-a776-f91207f24174",
   "metadata": {},
   "outputs": [],
   "source": [
    "if activities.isnull().values.any():\n",
    "    activities=activities.dropna()\n",
    "activities.describe()"
   ]
  },
  {
   "cell_type": "markdown",
   "id": "4b2bdcc5-5eaa-45e8-8126-3fab4d7b1397",
   "metadata": {},
   "source": [
    "We have 530 records (rows) that can be used to train our model."
   ]
  },
  {
   "cell_type": "markdown",
   "id": "cad93548-5e51-4689-846f-12b7ec71b6d9",
   "metadata": {},
   "source": [
    "### Save the cleaned data"
   ]
  },
  {
   "cell_type": "code",
   "execution_count": null,
   "id": "009b0363-7c8e-430f-b637-d9394fad1892",
   "metadata": {},
   "outputs": [],
   "source": [
    "activities.to_csv('cleaned_activities.csv')"
   ]
  },
  {
   "cell_type": "code",
   "execution_count": null,
   "id": "1b7b9233",
   "metadata": {},
   "outputs": [],
   "source": [
    "activities.head()"
   ]
  },
  {
   "cell_type": "markdown",
   "id": "a35ecd7b-42d8-4fe6-b647-db5a79222ff0",
   "metadata": {},
   "source": [
    "Let's take a look at the dataframe after the last processing."
   ]
  },
  {
   "cell_type": "markdown",
   "id": "081c1191",
   "metadata": {},
   "source": [
    "## Visualization"
   ]
  },
  {
   "cell_type": "markdown",
   "id": "06c511bb",
   "metadata": {},
   "source": [
    "We can obtain a first impression of the dependency between variables by examining a multidimensional scatterplot."
   ]
  },
  {
   "cell_type": "code",
   "execution_count": null,
   "id": "4c09db70",
   "metadata": {},
   "outputs": [],
   "source": [
    "from pandas.plotting import scatter_matrix\n",
    "scatter_matrix(activities, diagonal=\"kde\", figsize=(12,10));"
   ]
  },
  {
   "cell_type": "markdown",
   "id": "b6678d93",
   "metadata": {},
   "source": [
    "As expected we can see a linear relationship between the Moving Time and the Distance."
   ]
  },
  {
   "cell_type": "code",
   "execution_count": null,
   "id": "8de5156e",
   "metadata": {},
   "outputs": [],
   "source": [
    "activities.plot(kind=\"scatter\", x='Distance', y='Moving Time', grid=True)"
   ]
  },
  {
   "cell_type": "markdown",
   "id": "1b657846",
   "metadata": {},
   "source": [
    "there is an approximately linear relationship between Elevation Gain and the Distance: more Kms more the overall gain in altitude"
   ]
  },
  {
   "cell_type": "code",
   "execution_count": null,
   "id": "eadbf380",
   "metadata": {},
   "outputs": [],
   "source": [
    "activities.plot(kind=\"scatter\", x='Distance', y='Elevation Gain', grid=True)"
   ]
  },
  {
   "cell_type": "markdown",
   "id": "052e7039",
   "metadata": {},
   "source": [
    "We can also generate a 3D plot of the observations, which can sometimes help to interpret the data more easily. Here we plot 'Moving Time' as a function of 'Distance' and 'Elevation Gain'."
   ]
  },
  {
   "cell_type": "code",
   "execution_count": null,
   "id": "90a99028",
   "metadata": {},
   "outputs": [],
   "source": [
    "fig = plt.figure(figsize=(12, 8))\n",
    "ax = fig.add_subplot(projection=\"3d\")\n",
    "ax.scatter(activities[\"Distance\"], activities[\"Elevation Gain\"], activities[\"Moving Time\"])\n",
    "ax.set_xlabel(\"Distance\")\n",
    "ax.set_ylabel(\"Elevation Gain\")\n",
    "ax.set_zlabel(\"Moving Time\")\n",
    "ax.set_facecolor(\"white\")"
   ]
  },
  {
   "cell_type": "code",
   "execution_count": null,
   "id": "717ab64a-58ae-4ab0-a78c-50e7048a8ebf",
   "metadata": {},
   "outputs": [],
   "source": [
    "%matplotlib inline\n",
    "activities.hist(bins=50, figsize=(20,15))\n",
    "plt.show()"
   ]
  },
  {
   "cell_type": "markdown",
   "id": "d2b490ee",
   "metadata": {},
   "source": [
    "## Looking for correlation"
   ]
  },
  {
   "cell_type": "markdown",
   "id": "3826a596",
   "metadata": {},
   "source": [
    "You can easily compute the standard correlation coefficient (also called Pearson's r) between every pair of attributes using the 'corr()' method."
   ]
  },
  {
   "cell_type": "code",
   "execution_count": null,
   "id": "20aa2083",
   "metadata": {},
   "outputs": [],
   "source": [
    "corr_matrix= activities.corr()"
   ]
  },
  {
   "cell_type": "code",
   "execution_count": null,
   "id": "12cd4153-342c-4fde-afed-1f33205882d7",
   "metadata": {},
   "outputs": [],
   "source": [
    "corr_matrix[\"Moving Time\"].sort_values(ascending=False)"
   ]
  },
  {
   "cell_type": "markdown",
   "id": "0cfd9aa2-0ade-454a-8054-dc61bf1d36aa",
   "metadata": {},
   "source": [
    "The Moving Time is strongly correlated to the 'Distance' and also to the 'Elevation Gain'. This is asbolutely expected."
   ]
  },
  {
   "cell_type": "markdown",
   "id": "5fab3122",
   "metadata": {},
   "source": [
    "## Getting the 'labels' and 'features'"
   ]
  },
  {
   "cell_type": "code",
   "execution_count": null,
   "id": "614a1c8d",
   "metadata": {},
   "outputs": [],
   "source": [
    "labels=activities.pop(\"Moving Time\")"
   ]
  },
  {
   "cell_type": "code",
   "execution_count": null,
   "id": "bc475f88",
   "metadata": {},
   "outputs": [],
   "source": [
    "print(\"label shape:\", labels.shape, \"and type:\", type(labels))"
   ]
  },
  {
   "cell_type": "code",
   "execution_count": null,
   "id": "5e72e38f",
   "metadata": {},
   "outputs": [],
   "source": [
    "print(\"features shape:\", activities.shape, \"and type:\", type(activities))"
   ]
  },
  {
   "cell_type": "markdown",
   "id": "8f3444f6",
   "metadata": {},
   "source": [
    "## Split training and test set"
   ]
  },
  {
   "cell_type": "code",
   "execution_count": null,
   "id": "61ab3687",
   "metadata": {},
   "outputs": [],
   "source": [
    "X = activities.values  # values converts it into a numpy array\n",
    "Y = labels.values"
   ]
  },
  {
   "cell_type": "code",
   "execution_count": null,
   "id": "cb72adf0",
   "metadata": {},
   "outputs": [],
   "source": [
    "X_train, X_test, Y_train, Y_test = train_test_split(X, Y, test_size=0.2, random_state=42)"
   ]
  },
  {
   "cell_type": "code",
   "execution_count": null,
   "id": "365f7c8e",
   "metadata": {},
   "outputs": [],
   "source": [
    "X_train.shape"
   ]
  },
  {
   "cell_type": "code",
   "execution_count": null,
   "id": "53fae8a7",
   "metadata": {},
   "outputs": [],
   "source": [
    "X_test.shape"
   ]
  },
  {
   "cell_type": "markdown",
   "id": "f9b2f093",
   "metadata": {},
   "source": [
    "## Linear Regression Model"
   ]
  },
  {
   "cell_type": "markdown",
   "id": "75d9354e",
   "metadata": {},
   "source": [
    "We will created a fitted linear model using the formula API of the scikit-learn library."
   ]
  },
  {
   "cell_type": "code",
   "execution_count": null,
   "id": "f1b14863",
   "metadata": {},
   "outputs": [],
   "source": [
    "linear_model = LinearRegression()\n",
    "linear_model.fit(X_train, Y_train) "
   ]
  },
  {
   "cell_type": "markdown",
   "id": "c564fef7",
   "metadata": {},
   "source": [
    "### View Parameters \n",
    "The $\\mathbf{w}$ and $\\mathbf{b}$ parameters are referred to as 'coefficients' and 'intercept' in scikit-learn. In other term the model function can be written as $f_{w,b}(\\vec{x})$"
   ]
  },
  {
   "cell_type": "code",
   "execution_count": null,
   "id": "715acca3",
   "metadata": {},
   "outputs": [],
   "source": [
    "b = linear_model.intercept_\n",
    "w = linear_model.coef_\n",
    "print(f\"w = {w:}, b = {b:0.2f}\")"
   ]
  },
  {
   "cell_type": "markdown",
   "id": "d4fd1df3",
   "metadata": {},
   "source": [
    "Let's give it a try by using some routes from the Test set."
   ]
  },
  {
   "cell_type": "code",
   "execution_count": null,
   "id": "bd8e2572",
   "metadata": {},
   "outputs": [],
   "source": [
    "some_data=X_test[5:10,:]\n",
    "some_labels=Y_test[5:10]"
   ]
  },
  {
   "cell_type": "code",
   "execution_count": null,
   "id": "1fd7d832",
   "metadata": {},
   "outputs": [],
   "source": [
    "some_labels_predicted = linear_model.predict(some_data)"
   ]
  },
  {
   "cell_type": "code",
   "execution_count": null,
   "id": "7c8f9b39-71fa-4ac1-ba45-487e2727eef3",
   "metadata": {},
   "outputs": [],
   "source": [
    "print(\"Error (mins):\", (some_labels_predicted - some_labels)/60)"
   ]
  },
  {
   "cell_type": "markdown",
   "id": "588a9e49-bf8e-4e77-99f6-540648eb2cc2",
   "metadata": {},
   "source": [
    "### Mean squared error"
   ]
  },
  {
   "cell_type": "markdown",
   "id": "1f539b00",
   "metadata": {},
   "source": [
    "Let’s measure the regression model’s RMSE on the whole training set using Scikit-Learn’s mean_squared_error function."
   ]
  },
  {
   "cell_type": "code",
   "execution_count": null,
   "id": "69bbdd3b",
   "metadata": {},
   "outputs": [],
   "source": [
    "from sklearn.metrics import mean_squared_error"
   ]
  },
  {
   "cell_type": "code",
   "execution_count": null,
   "id": "da72a696",
   "metadata": {},
   "outputs": [],
   "source": [
    "lin_mse = mean_squared_error(some_labels, some_labels_predicted)\n",
    "lin_rmse = numpy.sqrt(lin_mse)\n",
    "lin_rmse/60"
   ]
  },
  {
   "cell_type": "markdown",
   "id": "c0ea5b93",
   "metadata": {},
   "source": [
    "It's a little bit high. Something doesn't work as expected. The Linear model assumption seems to be not right."
   ]
  },
  {
   "cell_type": "markdown",
   "id": "c383d3f3",
   "metadata": {},
   "source": [
    "## Calculate accuracy"
   ]
  },
  {
   "cell_type": "markdown",
   "id": "e113ae87",
   "metadata": {},
   "source": [
    "You can calculate this accuracy of this model by calling the `score` function on the whole Training set."
   ]
  },
  {
   "cell_type": "code",
   "execution_count": null,
   "id": "da8084b1",
   "metadata": {},
   "outputs": [],
   "source": [
    "print(\"Accuracy on training set:\", linear_model.score(X_train, Y_train))"
   ]
  },
  {
   "cell_type": "markdown",
   "id": "64ab3c08-9428-4650-9edf-d7703cfaadb5",
   "metadata": {},
   "source": [
    "The model is doing poor on the Training set. It's too simple and it can match the training data at the best. Let's try another model."
   ]
  },
  {
   "cell_type": "code",
   "execution_count": null,
   "id": "4b265601-5586-4593-9599-4e086818698e",
   "metadata": {},
   "outputs": [],
   "source": [
    "# print(\"Accuracy on test set:\", linear_model.score(X_test, Y_test))"
   ]
  },
  {
   "cell_type": "code",
   "execution_count": null,
   "id": "7d5d08e3-61ce-47f3-8e47-08729c0edb08",
   "metadata": {},
   "outputs": [],
   "source": []
  }
 ],
 "metadata": {
  "kernelspec": {
   "display_name": "Python 3 (ipykernel)",
   "language": "python",
   "name": "python3"
  },
  "language_info": {
   "codemirror_mode": {
    "name": "ipython",
    "version": 3
   },
   "file_extension": ".py",
   "mimetype": "text/x-python",
   "name": "python",
   "nbconvert_exporter": "python",
   "pygments_lexer": "ipython3",
   "version": "3.10.6"
  }
 },
 "nbformat": 4,
 "nbformat_minor": 5
}
