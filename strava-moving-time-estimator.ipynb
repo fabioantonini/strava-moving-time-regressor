{
 "cells": [
  {
   "cell_type": "markdown",
   "id": "871e4c2a",
   "metadata": {},
   "source": [
    "# Strava Moving Time estimator by Scikit-Learn"
   ]
  },
  {
   "cell_type": "code",
   "execution_count": null,
   "id": "734532ad",
   "metadata": {},
   "outputs": [],
   "source": [
    "import numpy\n",
    "import pandas\n",
    "import matplotlib.pyplot as plt\n",
    "import scipy.stats\n",
    "from sklearn.linear_model import LinearRegression # Regression Model\n",
    "from sklearn.model_selection import train_test_split # to split train and test sets\n",
    "plt.style.use(\"bmh\")\n",
    "%config InlineBackend.figure_formats=[\"png\"]"
   ]
  },
  {
   "cell_type": "markdown",
   "id": "ba6a767b",
   "metadata": {},
   "source": [
    "Let's assume to have already downloaded the activities.csv file from our Strava profile."
   ]
  },
  {
   "cell_type": "code",
   "execution_count": null,
   "id": "10ea0012",
   "metadata": {},
   "outputs": [],
   "source": [
    "activities = pandas.read_csv(\"activities.csv\")\n",
    "print(\"dataset type is:\", type(activities), \"length:\", len(activities), \"shape:\", activities.shape)"
   ]
  },
  {
   "cell_type": "markdown",
   "id": "573bdc07",
   "metadata": {},
   "source": [
    "The dataset is really rich. It includes 86 columns for each route. \n",
    "Not all the columns contain usable data because I don't have a Strava subscription, but only a free account."
   ]
  },
  {
   "cell_type": "code",
   "execution_count": null,
   "id": "a87b6afc",
   "metadata": {},
   "outputs": [],
   "source": [
    "print(\"columns: \", len(list(activities.columns)))"
   ]
  },
  {
   "cell_type": "code",
   "execution_count": null,
   "id": "d2d6428f",
   "metadata": {},
   "outputs": [],
   "source": [
    "activities.info()"
   ]
  },
  {
   "cell_type": "code",
   "execution_count": null,
   "id": "da47b9b2",
   "metadata": {},
   "outputs": [],
   "source": [
    "list(activities.columns)"
   ]
  },
  {
   "cell_type": "markdown",
   "id": "c07d9681",
   "metadata": {},
   "source": [
    "Of course not all the columns are helpful. So let's extract only the columns really helpful to train a model."
   ]
  },
  {
   "cell_type": "markdown",
   "id": "4933b909",
   "metadata": {},
   "source": [
    "After a fast analysis of the available features, only the following features will be used to train the model:\n",
    "- Distance\n",
    "- Elevation gain\n",
    "- Max Grade\n",
    "- Average Grade"
   ]
  },
  {
   "cell_type": "markdown",
   "id": "c2eeecd7",
   "metadata": {},
   "source": [
    "The target label is the 'Moving Time'."
   ]
  },
  {
   "cell_type": "markdown",
   "id": "dc2c018c",
   "metadata": {},
   "source": [
    "Our task is to train a model to predict the expected 'Moving time' given the Distance, the Elevation Gain, the Max Grade, the Average Grade."
   ]
  },
  {
   "cell_type": "markdown",
   "id": "9d8751ab",
   "metadata": {},
   "source": [
    "These informations can be retrieved by Rouvy, the well know virtual biking app."
   ]
  },
  {
   "cell_type": "markdown",
   "id": "2078b018",
   "metadata": {},
   "source": [
    "<img src=\"rouvy.png\" alt=\"Rouvy data for a route\" />"
   ]
  },
  {
   "cell_type": "markdown",
   "id": "c343e3a6",
   "metadata": {},
   "source": [
    "or from Google Maps"
   ]
  },
  {
   "cell_type": "markdown",
   "id": "37f974d3",
   "metadata": {},
   "source": [
    "<img src=\"google-maps.png\" alt=\"Google Maps data for a route\" />"
   ]
  },
  {
   "cell_type": "markdown",
   "id": "c4bbb253",
   "metadata": {},
   "source": [
    "## Dropping 'walk' activities"
   ]
  },
  {
   "cell_type": "code",
   "execution_count": null,
   "id": "7d3730ce",
   "metadata": {},
   "outputs": [],
   "source": [
    "activities = activities.drop(activities[activities['Activity Type'] == 'Walk'].index)"
   ]
  },
  {
   "cell_type": "code",
   "execution_count": null,
   "id": "b8aee2f8",
   "metadata": {},
   "outputs": [],
   "source": [
    "activities.info()"
   ]
  },
  {
   "cell_type": "markdown",
   "id": "9bbf11fc",
   "metadata": {},
   "source": [
    "## Dropping short routes"
   ]
  },
  {
   "cell_type": "markdown",
   "id": "583191c6",
   "metadata": {},
   "source": [
    "Sometimes short routes have been recorded as for example the 'Warm up' and 'Cool down' routes under Rouvy. They are not useful for our purposes. So let's remove all the routes whose 'Moving Time' is less than 3 minutes (180 secs)."
   ]
  },
  {
   "cell_type": "code",
   "execution_count": null,
   "id": "9a02f34d",
   "metadata": {},
   "outputs": [],
   "source": [
    "activities = activities.drop(activities[activities['Moving Time'] < 180].index)"
   ]
  },
  {
   "cell_type": "code",
   "execution_count": null,
   "id": "485153f5",
   "metadata": {},
   "outputs": [],
   "source": [
    "activities.describe()"
   ]
  },
  {
   "cell_type": "markdown",
   "id": "d7aa0c42",
   "metadata": {},
   "source": [
    "Let's extract only the required columns from the original activities dataset."
   ]
  },
  {
   "cell_type": "code",
   "execution_count": null,
   "id": "e3d5dfbb",
   "metadata": {},
   "outputs": [],
   "source": [
    "activities = activities[[\"Distance\", \"Elevation Gain\", \"Max Grade\", \"Average Grade\", \"Moving Time\", \"Max Speed\"]]"
   ]
  },
  {
   "cell_type": "code",
   "execution_count": null,
   "id": "e92c769e",
   "metadata": {},
   "outputs": [],
   "source": [
    "mph2kmh=0.621371192\n",
    "activities['Max Speed'] = activities['Max Speed']/mph2kmh"
   ]
  },
  {
   "cell_type": "code",
   "execution_count": null,
   "id": "bdf7ec66",
   "metadata": {},
   "outputs": [],
   "source": [
    "activities.info()"
   ]
  },
  {
   "cell_type": "markdown",
   "id": "8459319f",
   "metadata": {},
   "source": [
    "Let's take a look at the data content"
   ]
  },
  {
   "cell_type": "code",
   "execution_count": null,
   "id": "6439ba57",
   "metadata": {},
   "outputs": [],
   "source": [
    "activities.head()"
   ]
  },
  {
   "cell_type": "code",
   "execution_count": null,
   "id": "b47fc4ad",
   "metadata": {},
   "outputs": [],
   "source": [
    "activities.describe()"
   ]
  },
  {
   "cell_type": "markdown",
   "id": "95d8fe65",
   "metadata": {},
   "source": [
    "We can check the 'null' values and remove them if present."
   ]
  },
  {
   "cell_type": "code",
   "execution_count": null,
   "id": "14c31516",
   "metadata": {},
   "outputs": [],
   "source": [
    "if activities.isnull().values.any():\n",
    "    print(\"removing null values ...\")\n",
    "    activities=activities.dropna()"
   ]
  },
  {
   "cell_type": "code",
   "execution_count": null,
   "id": "1b7b9233",
   "metadata": {},
   "outputs": [],
   "source": [
    "activities.info()"
   ]
  },
  {
   "cell_type": "markdown",
   "id": "4e00c877",
   "metadata": {},
   "source": [
    "Now we have removed the four rows with 'null' or 'NaN' from the dataframe. "
   ]
  },
  {
   "cell_type": "markdown",
   "id": "081c1191",
   "metadata": {},
   "source": [
    "## Visualization"
   ]
  },
  {
   "cell_type": "markdown",
   "id": "06c511bb",
   "metadata": {},
   "source": [
    "We can obtain a first impression of the dependency between variables by examining a multidimensional scatterplot."
   ]
  },
  {
   "cell_type": "code",
   "execution_count": null,
   "id": "4c09db70",
   "metadata": {},
   "outputs": [],
   "source": [
    "from pandas.plotting import scatter_matrix\n",
    "scatter_matrix(activities, diagonal=\"kde\", figsize=(12,10));"
   ]
  },
  {
   "cell_type": "markdown",
   "id": "b6678d93",
   "metadata": {},
   "source": [
    "As expected we can see a linear relationship between the Moving Time and the Distance."
   ]
  },
  {
   "cell_type": "code",
   "execution_count": null,
   "id": "8de5156e",
   "metadata": {},
   "outputs": [],
   "source": [
    "activities.plot(kind=\"scatter\", x='Distance', y='Moving Time', grid=True)"
   ]
  },
  {
   "cell_type": "markdown",
   "id": "1b657846",
   "metadata": {},
   "source": [
    "there is an approximately linear relationship between Elevation Gain and the Distance: more Kms more the overall gain in altitude"
   ]
  },
  {
   "cell_type": "code",
   "execution_count": null,
   "id": "eadbf380",
   "metadata": {},
   "outputs": [],
   "source": [
    "activities.plot(kind=\"scatter\", x='Distance', y='Elevation Gain', grid=True)"
   ]
  },
  {
   "cell_type": "markdown",
   "id": "052e7039",
   "metadata": {},
   "source": [
    "We can also generate a 3D plot of the observations, which can sometimes help to interpret the data more easily. Here we plot 'Moving Time' as a function of 'Distance' and 'Elevation Gain'."
   ]
  },
  {
   "cell_type": "code",
   "execution_count": null,
   "id": "90a99028",
   "metadata": {},
   "outputs": [],
   "source": [
    "fig = plt.figure(figsize=(12, 8))\n",
    "ax = fig.add_subplot(projection=\"3d\")\n",
    "ax.scatter(activities[\"Distance\"], activities[\"Elevation Gain\"], activities[\"Moving Time\"])\n",
    "ax.set_xlabel(\"Distance\")\n",
    "ax.set_ylabel(\"Elevation Gain\")\n",
    "ax.set_zlabel(\"Moving Time\")\n",
    "ax.set_facecolor(\"white\")"
   ]
  },
  {
   "cell_type": "markdown",
   "id": "d2b490ee",
   "metadata": {},
   "source": [
    "## Looking for correlation"
   ]
  },
  {
   "cell_type": "markdown",
   "id": "3826a596",
   "metadata": {},
   "source": [
    "You can easily compute the standard correlation coefficient (also called Pearson's r) between every pair of attributes using the 'corr()' method."
   ]
  },
  {
   "cell_type": "code",
   "execution_count": null,
   "id": "20aa2083",
   "metadata": {},
   "outputs": [],
   "source": [
    "corr_matrix= activities.corr()"
   ]
  },
  {
   "cell_type": "code",
   "execution_count": null,
   "id": "ea910238",
   "metadata": {},
   "outputs": [],
   "source": [
    "corr_matrix[\"Distance\"].sort_values(ascending=False)"
   ]
  },
  {
   "cell_type": "markdown",
   "id": "f6e05da4",
   "metadata": {},
   "source": [
    "As expected the 'Distance' is strongly correlated to the 'Moving Time' (0.87) and a bit less (0.59) to the 'Elevation Gain'."
   ]
  },
  {
   "cell_type": "markdown",
   "id": "5fab3122",
   "metadata": {},
   "source": [
    "## Getting the 'labels' and 'features'"
   ]
  },
  {
   "cell_type": "code",
   "execution_count": null,
   "id": "614a1c8d",
   "metadata": {},
   "outputs": [],
   "source": [
    "labels=activities.pop(\"Moving Time\")"
   ]
  },
  {
   "cell_type": "code",
   "execution_count": null,
   "id": "bc475f88",
   "metadata": {},
   "outputs": [],
   "source": [
    "print(\"label shape:\", labels.shape, \"and type:\", type(labels))"
   ]
  },
  {
   "cell_type": "code",
   "execution_count": null,
   "id": "5e72e38f",
   "metadata": {},
   "outputs": [],
   "source": [
    "print(\"features shape:\", activities.shape, \"and type:\", type(activities))"
   ]
  },
  {
   "cell_type": "markdown",
   "id": "8f3444f6",
   "metadata": {},
   "source": [
    "## Split training and test set"
   ]
  },
  {
   "cell_type": "code",
   "execution_count": null,
   "id": "61ab3687",
   "metadata": {},
   "outputs": [],
   "source": [
    "X = activities.values  # values converts it into a numpy array\n",
    "Y = labels.values"
   ]
  },
  {
   "cell_type": "code",
   "execution_count": null,
   "id": "cb72adf0",
   "metadata": {},
   "outputs": [],
   "source": [
    "X_train, X_test, Y_train, Y_test = train_test_split(X, Y)"
   ]
  },
  {
   "cell_type": "code",
   "execution_count": null,
   "id": "365f7c8e",
   "metadata": {},
   "outputs": [],
   "source": [
    "X_train.shape"
   ]
  },
  {
   "cell_type": "code",
   "execution_count": null,
   "id": "53fae8a7",
   "metadata": {},
   "outputs": [],
   "source": [
    "X_test.shape"
   ]
  },
  {
   "cell_type": "markdown",
   "id": "f9b2f093",
   "metadata": {},
   "source": [
    "## Model Training"
   ]
  },
  {
   "cell_type": "markdown",
   "id": "75d9354e",
   "metadata": {},
   "source": [
    "We will created a fitted linear model using the formula API of the scikit-learn library."
   ]
  },
  {
   "cell_type": "code",
   "execution_count": null,
   "id": "f1b14863",
   "metadata": {},
   "outputs": [],
   "source": [
    "linear_model = LinearRegression()\n",
    "linear_model.fit(X_train, Y_train) "
   ]
  },
  {
   "cell_type": "markdown",
   "id": "c564fef7",
   "metadata": {},
   "source": [
    "### View Parameters \n",
    "The $\\mathbf{w}$ and $\\mathbf{b}$ parameters are referred to as 'coefficients' and 'intercept' in scikit-learn. In other term the model function can be written as $f_{w,b}(\\vec{x})$"
   ]
  },
  {
   "cell_type": "code",
   "execution_count": null,
   "id": "715acca3",
   "metadata": {},
   "outputs": [],
   "source": [
    "b = linear_model.intercept_\n",
    "w = linear_model.coef_\n",
    "print(f\"w = {w:}, b = {b:0.2f}\")"
   ]
  },
  {
   "cell_type": "markdown",
   "id": "d4fd1df3",
   "metadata": {},
   "source": [
    "Let's give it a try"
   ]
  },
  {
   "cell_type": "code",
   "execution_count": null,
   "id": "bd8e2572",
   "metadata": {},
   "outputs": [],
   "source": [
    "some_data=X_test[5:10,:]\n",
    "some_labels=Y_test[5:10]"
   ]
  },
  {
   "cell_type": "code",
   "execution_count": null,
   "id": "1fd7d832",
   "metadata": {},
   "outputs": [],
   "source": [
    "some_labels_predicted = linear_model.predict(some_data)"
   ]
  },
  {
   "cell_type": "code",
   "execution_count": null,
   "id": "50014db7",
   "metadata": {},
   "outputs": [],
   "source": [
    "print(\"Predictions (secs):\", some_labels_predicted)"
   ]
  },
  {
   "cell_type": "code",
   "execution_count": null,
   "id": "e221a824",
   "metadata": {},
   "outputs": [],
   "source": [
    "print(\"Labels (secs):\", some_labels)"
   ]
  },
  {
   "cell_type": "markdown",
   "id": "1f539b00",
   "metadata": {},
   "source": [
    "Let’s measure this regression model’s RMSE on the whole training set using Scikit-Learn’s mean_squared_error function"
   ]
  },
  {
   "cell_type": "code",
   "execution_count": null,
   "id": "69bbdd3b",
   "metadata": {},
   "outputs": [],
   "source": [
    "from sklearn.metrics import mean_squared_error"
   ]
  },
  {
   "cell_type": "code",
   "execution_count": null,
   "id": "da72a696",
   "metadata": {},
   "outputs": [],
   "source": [
    "lin_mse = mean_squared_error(some_labels, some_labels_predicted)\n",
    "lin_rmse = numpy.sqrt(lin_mse)\n",
    "lin_rmse"
   ]
  },
  {
   "cell_type": "markdown",
   "id": "c0ea5b93",
   "metadata": {},
   "source": [
    "It's a little bit high. Something doesn't work as expected. The Linear model assumption seems to be not right."
   ]
  },
  {
   "cell_type": "markdown",
   "id": "c383d3f3",
   "metadata": {},
   "source": [
    "## Calculate accuracy"
   ]
  },
  {
   "cell_type": "markdown",
   "id": "e113ae87",
   "metadata": {},
   "source": [
    "You can calculate this accuracy of this model by calling the `score` function."
   ]
  },
  {
   "cell_type": "code",
   "execution_count": null,
   "id": "da8084b1",
   "metadata": {},
   "outputs": [],
   "source": [
    "print(\"Accuracy on training set:\", linear_model.score(X_train, Y_train))"
   ]
  },
  {
   "cell_type": "markdown",
   "id": "30a4a6a1",
   "metadata": {},
   "source": [
    "The accuracy on the training set is good enough but not high. The model is underfitting."
   ]
  },
  {
   "cell_type": "code",
   "execution_count": null,
   "id": "e2e68468",
   "metadata": {},
   "outputs": [],
   "source": [
    "print(\"Accuracy on test set:\", linear_model.score(X_test, Y_test))"
   ]
  },
  {
   "cell_type": "code",
   "execution_count": null,
   "id": "ebf9d465",
   "metadata": {},
   "outputs": [],
   "source": []
  }
 ],
 "metadata": {
  "kernelspec": {
   "display_name": "Python 3 (ipykernel)",
   "language": "python",
   "name": "python3"
  },
  "language_info": {
   "codemirror_mode": {
    "name": "ipython",
    "version": 3
   },
   "file_extension": ".py",
   "mimetype": "text/x-python",
   "name": "python",
   "nbconvert_exporter": "python",
   "pygments_lexer": "ipython3",
   "version": "3.10.6"
  }
 },
 "nbformat": 4,
 "nbformat_minor": 5
}
