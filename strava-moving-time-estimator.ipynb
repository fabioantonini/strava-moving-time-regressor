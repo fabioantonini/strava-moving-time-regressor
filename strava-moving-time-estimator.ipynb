{
 "cells": [
  {
   "cell_type": "markdown",
   "id": "871e4c2a",
   "metadata": {},
   "source": [
    "# Strava, Rouvy and Machine Learning"
   ]
  },
  {
   "cell_type": "markdown",
   "id": "d8cfa8b7-28bd-4f7f-b6fd-13add5428556",
   "metadata": {},
   "source": [
    "### How to predict 'moving time' on a route by Scikit-Learn\n",
    "<center><img src=\"strava.png\" alt=\"My Account from Strava web page\" /><img src=\"rouvy.png\" alt=\"My Account from Strava web page\" /></center>"
   ]
  },
  {
   "cell_type": "markdown",
   "id": "2bbfc9bf-5348-4f7f-8da4-caf5084634df",
   "metadata": {},
   "source": [
    "I've had a lot of fun riding my bike over the last few years. Unfortunately the Covid pandemic has greatly limited the opportunities for outdoor outings. Plus the winter is harsh in my area. So I subscribed to a nice app called (rouvy.com) and bought an indoor trainer to pedal at home. It was a fantastic experience that continues to this day. Early every day in the morning I can train by pedaling anywhere in the world, tackling the steepest and most legendary climbs. I connected Rouvy to my (free) Strava account and saved all the data related to the routes I have ridden. After 3 years the end result is that I have more than 500 routes (indoor and outdoor) saved in my Strava account. But how does Machine Learning come into play?\n",
    "When I want to choose the next route to take, I often have only a rough idea of the \"commute time\" it will take. This is essential for scheduling my time. So I decided to use the data available in Strava to train a Machine Learning model and predict the \"commute time\" (also 'Moving time') given some parameters (distance, elevation gain, max grade, average grade...) available 'a priori' in the Rouvy profile of the route.\n",
    "This notebook, the data and all the pictures are available under my github https://github.com/fabioantonini/strava-moving-time-regressor.\n",
    "Let's dive."
   ]
  },
  {
   "cell_type": "markdown",
   "id": "505b7698-0dac-4eaa-ab98-70204029a99a",
   "metadata": {},
   "source": [
    "## Retrieving data from Strava"
   ]
  },
  {
   "cell_type": "markdown",
   "id": "5c5e922a-1fd8-4ca8-9d7d-b0d04ee2df6c",
   "metadata": {},
   "source": [
    "The routes data can be exported by the Strava website from the 'My Account' page."
   ]
  },
  {
   "cell_type": "markdown",
   "id": "dc466d74-b176-4345-a339-f169bd1d460f",
   "metadata": {},
   "source": [
    "<center><img src=\"myaccount.png\" alt=\"My Account from Strava web page\" /></center>"
   ]
  },
  {
   "cell_type": "markdown",
   "id": "d220f5cc-3560-4943-a5f3-5055490e4939",
   "metadata": {},
   "source": [
    "Search for 'Download or Delete Your Account'. Click on the 'Get Started'."
   ]
  },
  {
   "cell_type": "markdown",
   "id": "0607d464-19f8-4ebc-badd-b9c56172e0a1",
   "metadata": {},
   "source": [
    "<img src=\"export.png\" alt=\"My Account from Strava web page\" />"
   ]
  },
  {
   "cell_type": "markdown",
   "id": "ae496ad2-fe2d-47de-9000-6d8cddab212c",
   "metadata": {},
   "source": [
    "Click on the 'Request Your Archive' button. As explained, an email will be sent to you with the link to download the zip file containing the data of your Strava activities. Prepare to wait for a while. Strava takes its time to arrange the archive. So you might receive the email after some hours.\n",
    "Anyway in the end you will receive the email and download the zip file (export_31174850.zip for instance).\n",
    "Let's take a look at its content."
   ]
  },
  {
   "cell_type": "markdown",
   "id": "1600a942-cc29-4cc1-bc31-ba4e5f87bb12",
   "metadata": {},
   "source": [
    "<img src=\"zipfile.png\" alt=\"My Account from Strava web page\" />"
   ]
  },
  {
   "cell_type": "markdown",
   "id": "5e520187-508e-429f-9bef-8a17b3795868",
   "metadata": {},
   "source": [
    "For our purposes only the 'activities.csv' file is required. From the size we can realize that it contains a lot of data. My own 'activities.csv' file has been added to the repo and it will be processed. Let's import it."
   ]
  },
  {
   "cell_type": "code",
   "execution_count": null,
   "id": "734532ad",
   "metadata": {},
   "outputs": [],
   "source": [
    "import numpy as np\n",
    "import pandas as pd\n",
    "import matplotlib.pyplot as plt\n",
    "import scipy.stats\n",
    "from sklearn.linear_model import LinearRegression # Regression Model\n",
    "from sklearn.model_selection import train_test_split # to split train and test sets\n",
    "plt.style.use(\"bmh\")\n",
    "%config InlineBackend.figure_formats=[\"png\"]"
   ]
  },
  {
   "cell_type": "markdown",
   "id": "ba6a767b",
   "metadata": {},
   "source": [
    "Let's assume to have already downloaded the activities.csv file from our Strava profile."
   ]
  },
  {
   "cell_type": "code",
   "execution_count": null,
   "id": "10ea0012",
   "metadata": {},
   "outputs": [],
   "source": [
    "activities = pd.read_csv(\"activities.csv\")\n",
    "print(\"dataset type is:\", type(activities), \"length:\", len(activities), \"shape:\", activities.shape)"
   ]
  },
  {
   "cell_type": "markdown",
   "id": "573bdc07",
   "metadata": {},
   "source": [
    "The dataset is really rich. It includes 86 columns for each route. \n",
    "Not all the columns contain usable data because I don't have a full Strava subscription, but only a free account. Let's take a look more in depth to undestand which activities are really useful to out purpose."
   ]
  },
  {
   "cell_type": "code",
   "execution_count": null,
   "id": "a87b6afc",
   "metadata": {},
   "outputs": [],
   "source": [
    "print(\"columns: \", len(list(activities.columns)))"
   ]
  },
  {
   "cell_type": "code",
   "execution_count": null,
   "id": "bf110f9b-b231-421a-8bf3-3eb34ad36088",
   "metadata": {},
   "outputs": [],
   "source": [
    "activities.head()"
   ]
  },
  {
   "cell_type": "code",
   "execution_count": null,
   "id": "d2d6428f",
   "metadata": {},
   "outputs": [],
   "source": [
    "activities.info()"
   ]
  },
  {
   "cell_type": "markdown",
   "id": "c07d9681",
   "metadata": {},
   "source": [
    "Of course not all the columns are helpful. So let's extract only the columns really useful to train a model.\n",
    "The data appear to be a bit sparsed. Some columns are not valorized at all (because of my free account). Others columns are many 'null'' values. We need to indetify only the features statistically helpful."
   ]
  },
  {
   "cell_type": "markdown",
   "id": "9bbf11fc",
   "metadata": {},
   "source": [
    "## Data cleaning"
   ]
  },
  {
   "cell_type": "markdown",
   "id": "7e998fcb-ee0d-4807-9c8e-21bd068edf2a",
   "metadata": {},
   "source": [
    "In the next section data will be cleaned and filtered to get only routes done by bike (Outdoor and Indoor)."
   ]
  },
  {
   "cell_type": "markdown",
   "id": "c4bbb253",
   "metadata": {},
   "source": [
    "### Getting only activities done by bike"
   ]
  },
  {
   "cell_type": "markdown",
   "id": "32027cbe-e76e-417b-87fd-78ce8f530fed",
   "metadata": {},
   "source": [
    "We defintely need to get only the activities done by bike. They are labeled as 'Ride' and 'Virtual Ride' in the Strava exported dataset. So we will drop the activities tagged as 'Walk' and 'Run'."
   ]
  },
  {
   "cell_type": "code",
   "execution_count": null,
   "id": "14a13611-c2f0-4a98-9b04-b2d67da15f13",
   "metadata": {},
   "outputs": [],
   "source": [
    "activities=activities.loc[activities['Activity Type'].isin(['Ride', 'Virtual Ride'])]"
   ]
  },
  {
   "cell_type": "code",
   "execution_count": null,
   "id": "737e75fe-bdd5-4fb0-a44d-ea6522c36082",
   "metadata": {},
   "outputs": [],
   "source": [
    "activities.head(5)"
   ]
  },
  {
   "cell_type": "code",
   "execution_count": null,
   "id": "cf08df08-bed8-4948-b89a-c759948f340a",
   "metadata": {},
   "outputs": [],
   "source": [
    "# as an alternative you can remove the 'Walk' and 'Run' activities\n",
    "# activities = activities.drop(activities[activities['Activity Type'] == 'Walk'].index)\n",
    "# activities = activities.drop(activities[activities['Activity Type'] == 'Run'].index)"
   ]
  },
  {
   "cell_type": "markdown",
   "id": "046cad76-cb17-44e5-8b1c-1a3cc13f2101",
   "metadata": {},
   "source": [
    "### Removing short routes"
   ]
  },
  {
   "cell_type": "markdown",
   "id": "583191c6",
   "metadata": {},
   "source": [
    "Rouvy usually provides a 'Warm up' and 'Cool down' short routes before and after respectively the selected route. So also this short routes have been recorded under Strava. They are not useful for our purposes. So let's remove all the routes whose 'Moving Time' is less than 3 minutes (180 secs)."
   ]
  },
  {
   "cell_type": "code",
   "execution_count": null,
   "id": "9a02f34d",
   "metadata": {},
   "outputs": [],
   "source": [
    "activities = activities.drop(activities[activities['Moving Time'] < 180].index)"
   ]
  },
  {
   "cell_type": "code",
   "execution_count": null,
   "id": "b47fc4ad",
   "metadata": {},
   "outputs": [],
   "source": [
    "activities.head()"
   ]
  },
  {
   "cell_type": "markdown",
   "id": "0cf328aa-e7f3-46c8-8157-6dbacf2a86fd",
   "metadata": {},
   "source": [
    "### Handling fake data"
   ]
  },
  {
   "cell_type": "markdown",
   "id": "cf5f4719-1f22-4749-8340-7fa85441ada4",
   "metadata": {},
   "source": [
    "Inspecting the original dataframe we can realize that there are some bad data. For instance it's hard to believe that the 'Max Grade' is 50%. If the min 'Distance' is 0 Km, the route is a 'fake' or the data are corrupted. So these routes can be removed.\n",
    "Let's clean this data by setting a threshold of 25% for the 'Max Grade', and 3 Km's for 'Distance' respectively."
   ]
  },
  {
   "cell_type": "code",
   "execution_count": null,
   "id": "c852db15-0a71-41a3-9fb8-60c322b91f1b",
   "metadata": {},
   "outputs": [],
   "source": [
    "activities = activities.drop(activities[activities['Max Grade'] > 25].index)"
   ]
  },
  {
   "cell_type": "code",
   "execution_count": null,
   "id": "1f0f3285-7682-4e78-b5c2-b0197b1ff022",
   "metadata": {},
   "outputs": [],
   "source": [
    "activities = activities.drop(activities[activities['Distance'] < 3].index)"
   ]
  },
  {
   "cell_type": "code",
   "execution_count": null,
   "id": "31e0deab-e7bf-4c4d-b057-3a0a2d4979e9",
   "metadata": {},
   "outputs": [],
   "source": [
    "activities.describe()"
   ]
  },
  {
   "cell_type": "code",
   "execution_count": null,
   "id": "c4f14a1f-52cb-478f-b73b-4d488572496a",
   "metadata": {},
   "outputs": [],
   "source": [
    "activities.head()"
   ]
  },
  {
   "cell_type": "markdown",
   "id": "80d64445-5915-4c98-887d-4fddd653b696",
   "metadata": {},
   "source": [
    "Now the data looks better."
   ]
  },
  {
   "cell_type": "markdown",
   "id": "efc14a1d-e2c8-436c-87a1-47477afc7c1f",
   "metadata": {},
   "source": [
    "### Selecting features and labels"
   ]
  },
  {
   "cell_type": "markdown",
   "id": "5a378552-9dd8-4079-ac02-6d53fcf39868",
   "metadata": {},
   "source": [
    "After a fast analysis of the available features, only the following features will be used to train the model:\n",
    "- Distance\n",
    "- Elevation gain\n",
    "- Max Grade\n",
    "- Average Grade"
   ]
  },
  {
   "cell_type": "markdown",
   "id": "390d6c44-bcf5-4428-ba6d-3cc18f1d411f",
   "metadata": {},
   "source": [
    "The target label is the 'Moving Time'."
   ]
  },
  {
   "cell_type": "markdown",
   "id": "9e116c26-6152-41bb-9d40-1951b258bad3",
   "metadata": {},
   "source": [
    "These informations can be retrieved by Rouvy, for every available route.\n",
    "Please note that in the picture the Elevation Gain is mapped to the 'Ascended' item."
   ]
  },
  {
   "cell_type": "markdown",
   "id": "900cc3a7-1527-4492-ad15-603c0cdbb730",
   "metadata": {},
   "source": [
    "<center><img src=\"rouvy-route.png\" alt=\"Rouvy data for a route\" /></center>"
   ]
  },
  {
   "cell_type": "code",
   "execution_count": null,
   "id": "bb598cee-e2cf-42d7-9b4e-99ee730d4626",
   "metadata": {},
   "outputs": [],
   "source": [
    "activities = activities[[\"Distance\", \"Elevation Gain\", \"Max Grade\", \"Average Grade\", \"Moving Time\"]]\n",
    "activities.describe()"
   ]
  },
  {
   "cell_type": "markdown",
   "id": "c157573f-af48-4901-913f-7883d287327c",
   "metadata": {},
   "source": [
    "We can notice that not all the feature have the same number of not null values."
   ]
  },
  {
   "cell_type": "markdown",
   "id": "d0b57f68-b0a8-4afd-987f-83c497d0d2ed",
   "metadata": {},
   "source": [
    "### Handling 'Null' values"
   ]
  },
  {
   "cell_type": "markdown",
   "id": "942a830f-bd98-4e7a-8cae-f10d1ab91946",
   "metadata": {},
   "source": [
    "We can check the 'null' values and remove the rows with at least one 'null' value."
   ]
  },
  {
   "cell_type": "code",
   "execution_count": null,
   "id": "a3efa664-ecf1-4a62-a776-f91207f24174",
   "metadata": {},
   "outputs": [],
   "source": [
    "if activities.isnull().values.any():\n",
    "    activities=activities.dropna()\n",
    "activities.describe()"
   ]
  },
  {
   "cell_type": "markdown",
   "id": "4b2bdcc5-5eaa-45e8-8126-3fab4d7b1397",
   "metadata": {},
   "source": [
    "We have 530 records (rows) that can be used to train our model."
   ]
  },
  {
   "cell_type": "markdown",
   "id": "cad93548-5e51-4689-846f-12b7ec71b6d9",
   "metadata": {},
   "source": [
    "### Save the cleaned data"
   ]
  },
  {
   "cell_type": "code",
   "execution_count": null,
   "id": "009b0363-7c8e-430f-b637-d9394fad1892",
   "metadata": {},
   "outputs": [],
   "source": [
    "activities.to_csv('cleaned_activities.csv')"
   ]
  },
  {
   "cell_type": "code",
   "execution_count": null,
   "id": "1b7b9233",
   "metadata": {},
   "outputs": [],
   "source": [
    "activities.head()"
   ]
  },
  {
   "cell_type": "markdown",
   "id": "a35ecd7b-42d8-4fe6-b647-db5a79222ff0",
   "metadata": {},
   "source": [
    "Let's take a look at the dataframe after the last processing."
   ]
  },
  {
   "cell_type": "markdown",
   "id": "081c1191",
   "metadata": {},
   "source": [
    "## Visualization"
   ]
  },
  {
   "cell_type": "markdown",
   "id": "06c511bb",
   "metadata": {},
   "source": [
    "We can obtain a first impression of the dependency between variables by examining a multidimensional scatterplot."
   ]
  },
  {
   "cell_type": "code",
   "execution_count": null,
   "id": "4c09db70",
   "metadata": {},
   "outputs": [],
   "source": [
    "from pandas.plotting import scatter_matrix\n",
    "scatter_matrix(activities, diagonal=\"kde\", figsize=(12,10));"
   ]
  },
  {
   "cell_type": "markdown",
   "id": "b6678d93",
   "metadata": {},
   "source": [
    "As expected we can see a linear relationship between the Moving Time and the Distance."
   ]
  },
  {
   "cell_type": "code",
   "execution_count": null,
   "id": "8de5156e",
   "metadata": {},
   "outputs": [],
   "source": [
    "activities.plot(kind=\"scatter\", x='Distance', y='Moving Time', grid=True)"
   ]
  },
  {
   "cell_type": "markdown",
   "id": "1b657846",
   "metadata": {},
   "source": [
    "there is an approximately linear relationship between Elevation Gain and the Distance: more Kms more the overall gain in altitude"
   ]
  },
  {
   "cell_type": "code",
   "execution_count": null,
   "id": "eadbf380",
   "metadata": {},
   "outputs": [],
   "source": [
    "activities.plot(kind=\"scatter\", x='Distance', y='Elevation Gain', grid=True)"
   ]
  },
  {
   "cell_type": "markdown",
   "id": "052e7039",
   "metadata": {},
   "source": [
    "We can also generate a 3D plot of the observations, which can sometimes help to interpret the data more easily. Here we plot 'Moving Time' as a function of 'Distance' and 'Elevation Gain'."
   ]
  },
  {
   "cell_type": "code",
   "execution_count": null,
   "id": "90a99028",
   "metadata": {},
   "outputs": [],
   "source": [
    "fig = plt.figure(figsize=(12, 8))\n",
    "ax = fig.add_subplot(projection=\"3d\")\n",
    "ax.scatter(activities[\"Distance\"], activities[\"Elevation Gain\"], activities[\"Moving Time\"])\n",
    "ax.set_xlabel(\"Distance\")\n",
    "ax.set_ylabel(\"Elevation Gain\")\n",
    "ax.set_zlabel(\"Moving Time\")\n",
    "ax.set_facecolor(\"white\")"
   ]
  },
  {
   "cell_type": "code",
   "execution_count": null,
   "id": "717ab64a-58ae-4ab0-a78c-50e7048a8ebf",
   "metadata": {},
   "outputs": [],
   "source": [
    "%matplotlib inline\n",
    "activities.hist(bins=50, figsize=(20,15))\n",
    "plt.show()"
   ]
  },
  {
   "cell_type": "markdown",
   "id": "d2b490ee",
   "metadata": {},
   "source": [
    "## Looking for correlation"
   ]
  },
  {
   "cell_type": "markdown",
   "id": "3826a596",
   "metadata": {},
   "source": [
    "You can easily compute the standard correlation coefficient (also called Pearson's r) between every pair of attributes using the 'corr()' method."
   ]
  },
  {
   "cell_type": "code",
   "execution_count": null,
   "id": "20aa2083",
   "metadata": {},
   "outputs": [],
   "source": [
    "corr_matrix= activities.corr()"
   ]
  },
  {
   "cell_type": "code",
   "execution_count": null,
   "id": "12cd4153-342c-4fde-afed-1f33205882d7",
   "metadata": {},
   "outputs": [],
   "source": [
    "corr_matrix[\"Moving Time\"].sort_values(ascending=False)"
   ]
  },
  {
   "cell_type": "markdown",
   "id": "0cfd9aa2-0ade-454a-8054-dc61bf1d36aa",
   "metadata": {},
   "source": [
    "The Moving Time is strongly correlated to the 'Distance' and also to the 'Elevation Gain'. This is asbolutely expected."
   ]
  },
  {
   "cell_type": "markdown",
   "id": "5fab3122",
   "metadata": {},
   "source": [
    "## Getting the 'labels' and 'features'"
   ]
  },
  {
   "cell_type": "code",
   "execution_count": null,
   "id": "614a1c8d",
   "metadata": {},
   "outputs": [],
   "source": [
    "# labels=activities.pop(\"Moving Time\")"
   ]
  },
  {
   "cell_type": "code",
   "execution_count": null,
   "id": "bc475f88",
   "metadata": {},
   "outputs": [],
   "source": [
    "# print(\"label shape:\", labels.shape, \"and type:\", type(labels))"
   ]
  },
  {
   "cell_type": "code",
   "execution_count": null,
   "id": "5e72e38f",
   "metadata": {},
   "outputs": [],
   "source": [
    "#print(\"features shape:\", activities.shape, \"and type:\", type(activities))"
   ]
  },
  {
   "cell_type": "markdown",
   "id": "8f3444f6",
   "metadata": {},
   "source": [
    "## Split training and test set"
   ]
  },
  {
   "cell_type": "code",
   "execution_count": null,
   "id": "61ab3687",
   "metadata": {},
   "outputs": [],
   "source": [
    "#X = activities.values  # values converts it into a numpy array\n",
    "#Y = labels.values"
   ]
  },
  {
   "cell_type": "code",
   "execution_count": null,
   "id": "cb72adf0",
   "metadata": {},
   "outputs": [],
   "source": [
    "#X_train, X_test, Y_train, Y_test = train_test_split(X, Y, test_size=0.2, random_state=42)"
   ]
  },
  {
   "cell_type": "code",
   "execution_count": null,
   "id": "365f7c8e",
   "metadata": {},
   "outputs": [],
   "source": [
    "#X_train.shape"
   ]
  },
  {
   "cell_type": "code",
   "execution_count": null,
   "id": "53fae8a7",
   "metadata": {},
   "outputs": [],
   "source": [
    "#X_test.shape"
   ]
  },
  {
   "cell_type": "markdown",
   "id": "be005775-f153-4bb2-960e-ce4ad429d1f5",
   "metadata": {},
   "source": [
    "So far we have considered purely random sampling methods. This is generally fine if\n",
    "your dataset is large enough (especially relative to the number of attributes), but if it\n",
    "is not, you run the risk of introducing a significant sampling bias. In our case the dataset is quite small. The risk to face sampling bias is high. We need a workaround."
   ]
  },
  {
   "cell_type": "markdown",
   "id": "437cc739-1402-42c1-bfb6-6903c107003a",
   "metadata": {},
   "source": [
    "### Avoiding sampling bias"
   ]
  },
  {
   "cell_type": "markdown",
   "id": "65839252-2482-4930-a781-2fe57efd9459",
   "metadata": {},
   "source": [
    "From the previous histograms we can notice that most 'Distance' values are clustered around 10 to 15 Km's, but some 'Distance's go far beyond 70. It is important to have a sufficient number of instances in your dataset for each stratum, or else the estimate of the stratum’s importance may be biased. This means that you should not have too many strata, and each stratum should be large enough. The following code uses the \n",
    "pd.cut() function to create an income category attribute with 5 categories (labeled\n",
    "from 1 to 6): category 1 ranges from 0 to 20 (i.e., less than 20 Km's), category 2 from\n",
    "20 to 40 Km's, and so on:"
   ]
  },
  {
   "cell_type": "code",
   "execution_count": null,
   "id": "1a82e150-26ed-46b3-aa23-629ba3b429fe",
   "metadata": {},
   "outputs": [],
   "source": [
    "activities[\"Distance_cat\"] = pd.cut(activities[\"Distance\"],\n",
    " bins=[0, 20, 40, 60, np.inf],\n",
    " labels=[1, 2, 3, 4])"
   ]
  },
  {
   "cell_type": "code",
   "execution_count": null,
   "id": "5936ec61-d358-470a-8c10-ff3e0b73f252",
   "metadata": {},
   "outputs": [],
   "source": [
    "activities[\"Distance_cat\"].hist()"
   ]
  },
  {
   "cell_type": "markdown",
   "id": "d0aeb659-cd2a-4f22-9a0e-705d600aaa41",
   "metadata": {},
   "source": [
    "Now you are ready to do stratified sampling based on the income category. For this\n",
    "you can use Scikit-Learn’s StratifiedShuffleSplit class:"
   ]
  },
  {
   "cell_type": "code",
   "execution_count": null,
   "id": "79106bae-57e6-4f04-9630-af3f2e625274",
   "metadata": {},
   "outputs": [],
   "source": [
    "activities = activities.reset_index()"
   ]
  },
  {
   "cell_type": "code",
   "execution_count": null,
   "id": "3bf4933c-39f4-40c9-a797-007ff1931d4f",
   "metadata": {},
   "outputs": [],
   "source": [
    "activities.pop('index')"
   ]
  },
  {
   "cell_type": "code",
   "execution_count": null,
   "id": "7c01a984-726f-4ec5-9842-871ecc66de40",
   "metadata": {},
   "outputs": [],
   "source": [
    "activities.head()"
   ]
  },
  {
   "cell_type": "code",
   "execution_count": null,
   "id": "4554f98c-2fb9-4994-ae4b-76bed06b4ef9",
   "metadata": {},
   "outputs": [],
   "source": [
    "activities.index"
   ]
  },
  {
   "cell_type": "code",
   "execution_count": null,
   "id": "e369bfae-475b-4960-99ca-b330c9020d40",
   "metadata": {},
   "outputs": [],
   "source": [
    "from sklearn.model_selection import StratifiedShuffleSplit\n",
    "splitter = StratifiedShuffleSplit(n_splits=10, test_size=0.2, random_state=42)\n",
    "strat_splits = []\n",
    "for train_index, test_index in splitter.split(activities, activities[\"Distance_cat\"]):\n",
    "    strat_train_set_n = activities.iloc[train_index]\n",
    "    strat_test_set_n = activities.iloc[test_index]\n",
    "    strat_splits.append([strat_train_set_n, strat_test_set_n])"
   ]
  },
  {
   "cell_type": "code",
   "execution_count": null,
   "id": "a820ed36-57cf-49e5-846d-7a8f14bf916a",
   "metadata": {},
   "outputs": [],
   "source": [
    "strat_train_set, strat_test_set = strat_splits[0]"
   ]
  },
  {
   "cell_type": "code",
   "execution_count": null,
   "id": "43c542d1-78cb-43e1-adc0-70d66db32250",
   "metadata": {},
   "outputs": [],
   "source": [
    "strat_train_set.describe()"
   ]
  },
  {
   "cell_type": "code",
   "execution_count": null,
   "id": "b31f0676-17af-42eb-b876-53d30d88b9a4",
   "metadata": {},
   "outputs": [],
   "source": [
    "strat_test_set.describe()"
   ]
  },
  {
   "cell_type": "markdown",
   "id": "a8cbf0bd-208d-45f4-a973-cfa52c071dfb",
   "metadata": {},
   "source": [
    "It's much shorter to get a single stratified split:"
   ]
  },
  {
   "cell_type": "code",
   "execution_count": null,
   "id": "e7c0b602-57a4-4ad7-9c0c-85e63041294e",
   "metadata": {},
   "outputs": [],
   "source": [
    "strat_train_set, strat_test_set = train_test_split(\n",
    "    activities, test_size=0.2, stratify=activities[\"Distance_cat\"], random_state=42)"
   ]
  },
  {
   "cell_type": "code",
   "execution_count": null,
   "id": "7dc035d6-488b-47cb-841f-779b57305e37",
   "metadata": {},
   "outputs": [],
   "source": [
    "strat_train_set.info()"
   ]
  },
  {
   "cell_type": "code",
   "execution_count": null,
   "id": "a255608d-7752-4c48-a4ed-63d31403c184",
   "metadata": {},
   "outputs": [],
   "source": [
    "strat_test_set.info()"
   ]
  },
  {
   "cell_type": "code",
   "execution_count": null,
   "id": "4defb9b3-c85c-4e73-9d3c-e3e49a0195d2",
   "metadata": {},
   "outputs": [],
   "source": [
    "strat_test_set[\"Distance_cat\"].value_counts() / len(strat_test_set)"
   ]
  },
  {
   "cell_type": "code",
   "execution_count": null,
   "id": "2167d6b0-a50a-4e42-9aa3-d8a861f8fbc6",
   "metadata": {},
   "outputs": [],
   "source": [
    "# extra code – computes the data for Figure 2–10\n",
    "\n",
    "def distance_cat_proportions(data):\n",
    "    return data[\"Distance_cat\"].value_counts() / len(data)\n",
    "\n",
    "train_set, test_set = train_test_split(activities, test_size=0.2, random_state=42)\n",
    "\n",
    "compare_props = pd.DataFrame({\n",
    "    \"Overall %\": distance_cat_proportions(activities),\n",
    "    \"Stratified %\": distance_cat_proportions(strat_test_set),\n",
    "    \"Random %\": distance_cat_proportions(test_set),\n",
    "}).sort_index()\n",
    "compare_props.index.name = \"Distance Category\"\n",
    "compare_props[\"Strat. Error %\"] = (compare_props[\"Stratified %\"] /\n",
    "                                   compare_props[\"Overall %\"] - 1)\n",
    "compare_props[\"Rand. Error %\"] = (compare_props[\"Random %\"] /\n",
    "                                  compare_props[\"Overall %\"] - 1)\n",
    "(compare_props * 100).round(2)"
   ]
  },
  {
   "cell_type": "code",
   "execution_count": null,
   "id": "1d62e90f-2ea6-49d2-bfb3-37a0b0b225ba",
   "metadata": {},
   "outputs": [],
   "source": [
    "for set_ in (strat_train_set, strat_test_set):\n",
    "    set_.drop(\"Distance_cat\", axis=1, inplace=True)"
   ]
  },
  {
   "cell_type": "markdown",
   "id": "f9b2f093",
   "metadata": {},
   "source": [
    "### Linear Regression Model"
   ]
  },
  {
   "cell_type": "markdown",
   "id": "75d9354e",
   "metadata": {},
   "source": [
    "We will created a fitted linear model using the formula API of the scikit-learn library."
   ]
  },
  {
   "cell_type": "code",
   "execution_count": null,
   "id": "cb53d1e0-ec29-4fe0-9284-9c35095b8573",
   "metadata": {},
   "outputs": [],
   "source": [
    "strat_train_set_labels=strat_train_set.pop(\"Moving Time\")"
   ]
  },
  {
   "cell_type": "code",
   "execution_count": null,
   "id": "f1b14863",
   "metadata": {},
   "outputs": [],
   "source": [
    "linear_model = LinearRegression()\n",
    "linear_model.fit(strat_train_set, strat_train_set_labels) "
   ]
  },
  {
   "cell_type": "markdown",
   "id": "c564fef7",
   "metadata": {},
   "source": [
    "### View Parameters \n",
    "The $\\mathbf{w}$ and $\\mathbf{b}$ parameters are referred to as 'coefficients' and 'intercept' in scikit-learn. In other term the model function can be written as $f_{w,b}(\\vec{x})$"
   ]
  },
  {
   "cell_type": "code",
   "execution_count": null,
   "id": "715acca3",
   "metadata": {},
   "outputs": [],
   "source": [
    "b = linear_model.intercept_\n",
    "w = linear_model.coef_\n",
    "print(f\"w = {w:}, b = {b:0.2f}\")"
   ]
  },
  {
   "cell_type": "markdown",
   "id": "d4fd1df3",
   "metadata": {},
   "source": [
    "Let's give it a try by using some routes from the Test set."
   ]
  },
  {
   "cell_type": "code",
   "execution_count": null,
   "id": "bd0fca14-9def-40ef-aaed-a92755f59f83",
   "metadata": {},
   "outputs": [],
   "source": [
    "strat_test_set_labels=strat_test_set.pop(\"Moving Time\")"
   ]
  },
  {
   "cell_type": "code",
   "execution_count": null,
   "id": "1a4dfad3-8b03-4926-b022-85322925d0d5",
   "metadata": {},
   "outputs": [],
   "source": [
    "strat_test_set.info()"
   ]
  },
  {
   "cell_type": "code",
   "execution_count": null,
   "id": "1c7504ec-3ad3-4359-9350-3cb165f43989",
   "metadata": {},
   "outputs": [],
   "source": [
    "strat_test_set_labels.info()"
   ]
  },
  {
   "cell_type": "code",
   "execution_count": null,
   "id": "892095a3-34ef-48a2-8870-ef941b2b8238",
   "metadata": {},
   "outputs": [],
   "source": [
    "strat_test_set.head()"
   ]
  },
  {
   "cell_type": "code",
   "execution_count": null,
   "id": "bd8e2572",
   "metadata": {},
   "outputs": [],
   "source": [
    "some_data=strat_test_set.iloc[0:5,:]"
   ]
  },
  {
   "cell_type": "code",
   "execution_count": null,
   "id": "fabadd94-0830-4e03-85cf-2aaf3c0b3bc9",
   "metadata": {},
   "outputs": [],
   "source": [
    "some_labels=strat_test_set_labels.iloc[0:5]\n",
    "some_labels.head()"
   ]
  },
  {
   "cell_type": "code",
   "execution_count": null,
   "id": "1fd7d832",
   "metadata": {},
   "outputs": [],
   "source": [
    "print(type(some_data))\n",
    "some_labels_predicted = linear_model.predict(some_data) # it return a numpy ndarray\n",
    "some_labels_predicted"
   ]
  },
  {
   "cell_type": "code",
   "execution_count": null,
   "id": "5bf02d72-1c59-49ca-806e-7d7c13ffa219",
   "metadata": {},
   "outputs": [],
   "source": [
    "error = some_labels_predicted - some_labels.to_numpy()"
   ]
  },
  {
   "cell_type": "code",
   "execution_count": null,
   "id": "7c8f9b39-71fa-4ac1-ba45-487e2727eef3",
   "metadata": {},
   "outputs": [],
   "source": [
    "print(\"Error (mins):\", error/60)"
   ]
  },
  {
   "cell_type": "markdown",
   "id": "588a9e49-bf8e-4e77-99f6-540648eb2cc2",
   "metadata": {},
   "source": [
    "### Mean squared error"
   ]
  },
  {
   "cell_type": "markdown",
   "id": "1f539b00",
   "metadata": {},
   "source": [
    "Let’s measure the regression model’s RMSE on the whole training set using Scikit-Learn’s mean_squared_error function."
   ]
  },
  {
   "cell_type": "code",
   "execution_count": null,
   "id": "69bbdd3b",
   "metadata": {},
   "outputs": [],
   "source": [
    "from sklearn.metrics import mean_squared_error"
   ]
  },
  {
   "cell_type": "code",
   "execution_count": null,
   "id": "da72a696",
   "metadata": {},
   "outputs": [],
   "source": [
    "lin_mse = mean_squared_error(some_labels, some_labels_predicted)\n",
    "lin_rmse = np.sqrt(lin_mse)\n",
    "print(\"rmse (min)= {}\".format(lin_rmse/60))"
   ]
  },
  {
   "cell_type": "markdown",
   "id": "c0ea5b93",
   "metadata": {},
   "source": [
    "It's a little bit high. Our model fails of 12.3 minutes."
   ]
  },
  {
   "cell_type": "markdown",
   "id": "c383d3f3",
   "metadata": {},
   "source": [
    "## Calculate accuracy"
   ]
  },
  {
   "cell_type": "markdown",
   "id": "e113ae87",
   "metadata": {},
   "source": [
    "You can calculate this accuracy of this model by calling the `score` function on the whole Training set."
   ]
  },
  {
   "cell_type": "code",
   "execution_count": null,
   "id": "da8084b1",
   "metadata": {},
   "outputs": [],
   "source": [
    "print(\"Accuracy on training set:\", linear_model.score(strat_train_set, strat_train_set_labels))"
   ]
  },
  {
   "cell_type": "markdown",
   "id": "64ab3c08-9428-4650-9edf-d7703cfaadb5",
   "metadata": {},
   "source": [
    "The model is doing poor on the Training set. It's too simple and it cannot match the training data at the best. Let's try another model."
   ]
  },
  {
   "cell_type": "code",
   "execution_count": null,
   "id": "4b265601-5586-4593-9599-4e086818698e",
   "metadata": {},
   "outputs": [],
   "source": [
    "print(\"Accuracy on test set:\", linear_model.score(strat_test_set, strat_test_set_labels))"
   ]
  },
  {
   "cell_type": "markdown",
   "id": "ab0ba3ea-3466-4502-b87f-6ca1254c8007",
   "metadata": {},
   "source": [
    "### A prediction"
   ]
  },
  {
   "cell_type": "markdown",
   "id": "273e5e78-a3da-4bc1-90aa-579916474141",
   "metadata": {},
   "source": [
    "Let's try to predict the Moving Time of a new route I rode the last weew, the Challenge Gunsan-Saemangeum 2022.\n",
    "\n",
    "The input data are:\n",
    "- Distance: 30 Km's\n",
    "- Elevation Gain: 26\n",
    "- Max Grade: 3%\n",
    "- Average Grade: 0%\n",
    "\n",
    "The real Moving Time is 53 minutes"
   ]
  },
  {
   "cell_type": "code",
   "execution_count": null,
   "id": "1d567953-c451-457f-8598-14351867d52a",
   "metadata": {},
   "outputs": [],
   "source": [
    "real_moving_time=53"
   ]
  },
  {
   "cell_type": "markdown",
   "id": "e2efe988-0e3d-4fa7-a676-9ad93e992c20",
   "metadata": {},
   "source": [
    "<center><img src=\"test-route.png\" alt=\"Test Route - Challenge Gunsan-Saemangeum 2022\" /></center>"
   ]
  },
  {
   "cell_type": "code",
   "execution_count": null,
   "id": "6f6eaf77-02d9-4f5a-93b8-e8e4f4991403",
   "metadata": {},
   "outputs": [],
   "source": [
    "route_data = pd.DataFrame({\"Distance\": [29.99], \"Elevation Gain\": [26], \"Max Grade\": [3], \"Average Grade\": [0]})"
   ]
  },
  {
   "cell_type": "code",
   "execution_count": null,
   "id": "21990325-c646-404a-b3b1-7213dbcb58f8",
   "metadata": {},
   "outputs": [],
   "source": [
    "predicted_moving_time = linear_model.predict(route_data)/60"
   ]
  },
  {
   "cell_type": "code",
   "execution_count": null,
   "id": "ceb6e332-54b4-4dff-bf20-dfcf88af0412",
   "metadata": {},
   "outputs": [],
   "source": [
    "print(\"Predicted Moving Time (mins):{}, error : {}%\".format(predicted_moving_time, abs(100*(predicted_moving_time-real_moving_time)/real_moving_time)))"
   ]
  },
  {
   "cell_type": "markdown",
   "id": "44501827-ccd6-47d2-90a5-c7118d9ef7c5",
   "metadata": {},
   "source": [
    "## Decision tree"
   ]
  },
  {
   "cell_type": "markdown",
   "id": "c8e194e0-72a4-45fb-a385-635b2a11fd91",
   "metadata": {},
   "source": [
    "In order to try to improve the Model accuracy let's a different model able to catch nonlinear patterns in the data.\n",
    "Let’s train a DecisionTreeRegressor. This is a powerful model, capable of finding complex nonlinear relationships in the data."
   ]
  },
  {
   "cell_type": "code",
   "execution_count": null,
   "id": "04f0e52c-cd4c-4cac-b4b0-0a9b7ab31c34",
   "metadata": {},
   "outputs": [],
   "source": [
    "from sklearn.tree import DecisionTreeRegressor\n",
    "tree_reg = DecisionTreeRegressor()\n",
    "tree_reg.fit(strat_train_set, strat_train_set_labels)"
   ]
  },
  {
   "cell_type": "code",
   "execution_count": null,
   "id": "b9e5930c-e987-4d20-9282-f954b9840eec",
   "metadata": {},
   "outputs": [],
   "source": [
    "strat_train_set_predictions = tree_reg.predict(strat_train_set)\n",
    "tree_mse = mean_squared_error(strat_train_set_labels, strat_train_set_predictions)\n",
    "tree_rmse = np.sqrt(tree_mse)\n",
    "tree_rmse"
   ]
  },
  {
   "cell_type": "code",
   "execution_count": null,
   "id": "94ae3b7f-5a1a-4866-b4f2-7fe9852bde7f",
   "metadata": {},
   "outputs": [],
   "source": [
    "print(\"Accuracy on training set:\", tree_reg.score(strat_train_set, strat_train_set_labels))"
   ]
  },
  {
   "cell_type": "code",
   "execution_count": null,
   "id": "25147977-6710-4ef0-9ed1-7fa7426fc3c7",
   "metadata": {},
   "outputs": [],
   "source": [
    "print(\"Accuracy on test set:\", linear_model.score(strat_test_set, strat_test_set_labels))"
   ]
  },
  {
   "cell_type": "markdown",
   "id": "45a86230-3408-4e78-b2be-9231c6211f35",
   "metadata": {},
   "source": [
    "Let's try to predict the 'Moving Time of the previous route."
   ]
  },
  {
   "cell_type": "code",
   "execution_count": null,
   "id": "cac1770c-82c5-49e8-9c87-0f536814fe9d",
   "metadata": {},
   "outputs": [],
   "source": [
    "predicted_moving_time = tree_reg.predict(route_data)/60"
   ]
  },
  {
   "cell_type": "code",
   "execution_count": null,
   "id": "78208e31-0910-4599-b46c-40522e09e873",
   "metadata": {},
   "outputs": [],
   "source": [
    "print(\"Predicted Moving Time (mins):{}, error : {}%\".format(predicted_moving_time, abs(100*(predicted_moving_time-real_moving_time)/real_moving_time)))"
   ]
  },
  {
   "cell_type": "markdown",
   "id": "c975c716-964e-4c15-bb85-5a5ab329deb2",
   "metadata": {},
   "source": [
    "Now the error is negative, but it's lower than the error of the Linear Model."
   ]
  },
  {
   "cell_type": "code",
   "execution_count": null,
   "id": "3df9261a-2186-467e-840c-90aff8fcf941",
   "metadata": {},
   "outputs": [],
   "source": [
    "from sklearn.tree import export_graphviz"
   ]
  },
  {
   "cell_type": "code",
   "execution_count": null,
   "id": "c39107b2-0481-46fe-a15c-e012a6290ed6",
   "metadata": {},
   "outputs": [],
   "source": [
    "export_graphviz(\n",
    " tree_reg,\n",
    " out_file=\"routes_tree.dot\",\n",
    " feature_names=[\"Distance\", \"Elevation Gain\", \"Max Grade\", \"Average Grade\"],\n",
    " class_names=\"Moving Time\",\n",
    " rounded=True,\n",
    " filled=True\n",
    ")"
   ]
  },
  {
   "cell_type": "code",
   "execution_count": null,
   "id": "baa89c39-6c92-4312-b31f-ae6a89035eb4",
   "metadata": {},
   "outputs": [],
   "source": [
    "! dot -Tpng routes_tree.dot -o routes_tree.png"
   ]
  },
  {
   "cell_type": "markdown",
   "id": "066617e0-bd1c-451e-9a70-4c9718aea2e1",
   "metadata": {},
   "source": [
    "<center><img src=\"routes_tree.png\" alt=\"Decision Tree for the 'Moving Time' regresso\" /></center>"
   ]
  },
  {
   "cell_type": "markdown",
   "id": "4ed18869-3115-419b-985c-eddd6e9abc65",
   "metadata": {},
   "source": [
    "The RMSE of the Decision Tree model is '0'. No errors. This is confirmed by the Accuracy calculation on the Training Set which is '1'."
   ]
  },
  {
   "cell_type": "markdown",
   "id": "d6d591b2-7dd6-46a4-a7c5-5321d7a2477c",
   "metadata": {},
   "source": [
    "The Accuracy on the Test set is bit lower, but high enough."
   ]
  },
  {
   "cell_type": "markdown",
   "id": "d2c6c8d5-cca6-48a4-8844-5bbede1eaba3",
   "metadata": {},
   "source": [
    "The 'Moving Time' of the 'Challenge Gunsan-Saemangeum 2022' Route has been predicted with a lower error %."
   ]
  },
  {
   "cell_type": "markdown",
   "id": "50f4313c-c7f5-45cc-9a90-63de86fb8670",
   "metadata": {},
   "source": [
    "## Final comments"
   ]
  },
  {
   "cell_type": "markdown",
   "id": "cca8b377-ad77-4f7a-8775-2b0c53c9655e",
   "metadata": {},
   "source": [
    "The purpose of this exercise was to to develop a Machine Learning Model to predict the 'Moving Time' of a Route based. \n",
    "- The Models have been trained using the data of the routes exported from Strava. \n",
    "- Data includes more of 500 'outdoor' and 'indoor' routes. \n",
    "- The 'indoor' routes have been exported by Rouvy to Strava.\n",
    "- The data have been cleaned and prepared for training."
   ]
  },
  {
   "cell_type": "markdown",
   "id": "0b4fcde9-8ce0-4f57-b7a1-4e7413babf10",
   "metadata": {},
   "source": [
    "A couple of models have been trained ad tested on the same dataset.\n",
    "The first model (a LinearRegressor) prooved to be good, but unable to perfectly fit the training dataset. The accuracy on the training was comparable with the test set one. There was room for some improvement. Maybe the linear model didn't fit at the best."
   ]
  },
  {
   "cell_type": "markdown",
   "id": "2d16b59d-29f8-486d-b075-f1ada0ed0559",
   "metadata": {},
   "source": [
    "Then a DecisionTree model has been trained on the same dataset.\n",
    "The accuracy on the training set was '1'. A bit lower the accuracy on the test set."
   ]
  },
  {
   "cell_type": "markdown",
   "id": "61aa1937-9810-4d8c-b469-559d4acef2bd",
   "metadata": {},
   "source": [
    "The Decision Tree model has been able to predict the Moving Time of a new route (not seen at all during the training, with an error of 5 minutes (8%) on a route of 53 minutes as 'Moving Time'."
   ]
  }
 ],
 "metadata": {
  "kernelspec": {
   "display_name": "Python 3 (ipykernel)",
   "language": "python",
   "name": "python3"
  },
  "language_info": {
   "codemirror_mode": {
    "name": "ipython",
    "version": 3
   },
   "file_extension": ".py",
   "mimetype": "text/x-python",
   "name": "python",
   "nbconvert_exporter": "python",
   "pygments_lexer": "ipython3",
   "version": "3.10.6"
  }
 },
 "nbformat": 4,
 "nbformat_minor": 5
}
