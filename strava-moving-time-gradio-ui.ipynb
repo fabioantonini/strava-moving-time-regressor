{
 "cells": [
  {
   "cell_type": "code",
   "execution_count": 7,
   "id": "34bfbcf6-004e-409b-8248-de3949cabea8",
   "metadata": {},
   "outputs": [
    {
     "name": "stdout",
     "output_type": "stream",
     "text": [
      "* Running on local URL:  http://127.0.0.1:7860\n",
      "\n",
      "To create a public link, set `share=True` in `launch()`.\n"
     ]
    },
    {
     "data": {
      "text/html": [
       "<div><iframe src=\"http://127.0.0.1:7860/\" width=\"100%\" height=\"500\" allow=\"autoplay; camera; microphone; clipboard-read; clipboard-write;\" frameborder=\"0\" allowfullscreen></iframe></div>"
      ],
      "text/plain": [
       "<IPython.core.display.HTML object>"
      ]
     },
     "metadata": {},
     "output_type": "display_data"
    },
    {
     "data": {
      "text/plain": []
     },
     "execution_count": 7,
     "metadata": {},
     "output_type": "execute_result"
    }
   ],
   "source": [
    "import gradio as gr\n",
    "import pandas as pd\n",
    "from sklearn.ensemble import RandomForestRegressor\n",
    "from sklearn.preprocessing import MinMaxScaler\n",
    "import joblib  # For loading pre-trained models and scalers\n",
    "\n",
    "# Load pre-trained model and scaler\n",
    "model = joblib.load(\"best_random_forest_model.pkl\")  # Replace with your model file path\n",
    "scaler = joblib.load(\"scaler.pkl\")  # Replace with your scaler file path\n",
    "\n",
    "# Define prediction function\n",
    "def predict_moving_time(distance, elevation_gain, max_grade):\n",
    "    # Create a DataFrame for input features\n",
    "    input_data = pd.DataFrame({\n",
    "        'Distance': [distance],\n",
    "        'Elevation Gain': [elevation_gain],\n",
    "        'Max Grade': [max_grade],\n",
    "        'Distance * Elevation Gain': [distance * elevation_gain],\n",
    "        'Total Climbing Effort': [elevation_gain / distance],\n",
    "        'Distance^2': [distance**2],\n",
    "        'Elevation Gain^2': [elevation_gain**2],\n",
    "        'Max Grade^2': [max_grade**2]\n",
    "    })\n",
    "    \n",
    "    # Normalize the input features\n",
    "    input_normalized = pd.DataFrame(scaler.transform(input_data), columns=input_data.columns)\n",
    "    \n",
    "    # Predict using the trained model\n",
    "    predicted_time_seconds = model.predict(input_normalized)[0]\n",
    "    predicted_time_minutes = predicted_time_seconds / 60  # Convert to minutes\n",
    "    \n",
    "    return f\"{predicted_time_minutes:.2f} minutes\"\n",
    "\n",
    "# Define Gradio interface\n",
    "inputs = [\n",
    "    gr.Number(label=\"Distance (km)\"),\n",
    "    gr.Number(label=\"Elevation Gain (m)\"),\n",
    "    gr.Number(label=\"Max Grade (%)\")\n",
    "]\n",
    "\n",
    "output = gr.Textbox(label=\"Predicted Moving Time\")\n",
    "\n",
    "# Launch Gradio app\n",
    "gr.Interface(fn=predict_moving_time, inputs=inputs, outputs=output, title=\"Moving Time Predictor\").launch()"
   ]
  },
  {
   "cell_type": "code",
   "execution_count": null,
   "id": "7001841b-7393-493d-9106-271bde4091af",
   "metadata": {},
   "outputs": [],
   "source": []
  }
 ],
 "metadata": {
  "kernelspec": {
   "display_name": "Python 3 (ipykernel)",
   "language": "python",
   "name": "python3"
  },
  "language_info": {
   "codemirror_mode": {
    "name": "ipython",
    "version": 3
   },
   "file_extension": ".py",
   "mimetype": "text/x-python",
   "name": "python",
   "nbconvert_exporter": "python",
   "pygments_lexer": "ipython3",
   "version": "3.12.8"
  }
 },
 "nbformat": 4,
 "nbformat_minor": 5
}
